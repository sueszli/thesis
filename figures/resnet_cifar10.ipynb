{
 "cells": [
  {
   "cell_type": "code",
   "execution_count": 17,
   "metadata": {
    "vscode": {
     "languageId": "r"
    }
   },
   "outputs": [
    {
     "name": "stdout",
     "output_type": "stream",
     "text": [
      " [1] \"acc\"                  \"acc_0\"                \"acc_128\"             \n",
      " [4] \"acc_16\"               \"acc_2\"                \"acc_32\"              \n",
      " [7] \"acc_4\"                \"acc_64\"               \"acc_8\"               \n",
      "[10] \"mask_per_rowcol\"      \"train_epochs\"         \"train_hcaptcha_ratio\"\n",
      "[13] \"train_opacity\"       \n"
     ]
    }
   ],
   "source": [
    "deps <- c(\"ISLR\", \"ndjson\", \"ggplot2\", \"dplyr\", \"caret\", \"tidyr\", \"gridExtra\", \"data.table\", \"repr\", \"reshape2\", \"grid\", \"ggpubr\", \"patchwork\", \"cowplot\")\n",
    "for (p in deps) {\n",
    "    if (!requireNamespace(p, quietly = TRUE)) {\n",
    "        install.packages(p, repos = \"https://cran.rstudio.com\")\n",
    "    }\n",
    "    library(p, character.only = TRUE)\n",
    "}\n",
    "options(scipen=999)\n",
    "\n",
    "df <- ndjson::stream_in(\"./resnet_cifar10_subset.jsonl\")\n",
    "\n",
    "# make sure subset is correct\n",
    "init_len <- nrow(df)\n",
    "df <- df %>% filter(dataset == \"cifar10\" & mask_sides == 3 & mask_num_concentric == 2 & mask_colors == TRUE)\n",
    "df <- df %>% select(-c(\"dataset\", \"mask_sides\", \"mask_num_concentric\", \"mask_colors\"))\n",
    "stopifnot(nrow(df) == init_len)\n",
    "\n",
    "# stuff for plotting\n",
    "dataset <- \"cifar10\"\n",
    "mask_sides <- 3\n",
    "mask_num_concentric <- 2\n",
    "mask_colors <- TRUE\n",
    "\n",
    "mask_opacities <- c(0, 2, 4, 8, 16, 32, 64, 128) # same opacity used for tuning and test\n",
    "\n",
    "print(names(df))\n"
   ]
  },
  {
   "cell_type": "code",
   "execution_count": null,
   "metadata": {
    "vscode": {
     "languageId": "r"
    }
   },
   "outputs": [],
   "source": []
  }
 ],
 "metadata": {
  "kernelspec": {
   "display_name": "R",
   "language": "R",
   "name": "ir"
  },
  "language_info": {
   "codemirror_mode": "r",
   "file_extension": ".r",
   "mimetype": "text/x-r-source",
   "name": "R",
   "pygments_lexer": "r",
   "version": "4.4.1"
  }
 },
 "nbformat": 4,
 "nbformat_minor": 2
}
